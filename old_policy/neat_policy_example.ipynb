{
 "cells": [
  {
   "cell_type": "code",
   "execution_count": 1,
   "metadata": {
    "button": false,
    "collapsed": false,
    "deletable": true,
    "run_control": {
     "read_only": false
    }
   },
   "outputs": [],
   "source": [
    "from policy import NEATProperty, PropertyArray, properties_to_json\n",
    "from cib import CIB\n",
    "from pib import PIB, NEATPolicy"
   ]
  },
  {
   "cell_type": "markdown",
   "metadata": {
    "button": false,
    "deletable": true,
    "run_control": {
     "read_only": false
    }
   },
   "source": [
    "# Application Request\n",
    "\n",
    "We consider an application that would like to open a new TCP connection using NEAT to a destination host `d1` with the IP `10.1.23.45`. Further, if possible, the MTU of this connection should be greater than 1500 bytes. Finally, the application specifies a `low_latency` profile."
   ]
  },
  {
   "cell_type": "markdown",
   "metadata": {
    "button": false,
    "deletable": true,
    "run_control": {
     "read_only": false
    }
   },
   "source": [
    "We define three properties to represent these application requirements and combine them into a NEATRequest: "
   ]
  },
  {
   "cell_type": "code",
   "execution_count": 2,
   "metadata": {
    "button": false,
    "collapsed": false,
    "deletable": true,
    "run_control": {
     "read_only": false
    }
   },
   "outputs": [
    {
     "name": "stdout",
     "output_type": "stream",
     "text": [
      "├─\u001b[90m[low_latency|True]\u001b[1m\u001b[21m\u001b[0m──\u001b[90m(MTU|1500.0-9000.0)\u001b[1m\u001b[21m\u001b[0m──\u001b[90m[remote_ip|10.1.23.45]\u001b[1m\u001b[21m\u001b[0m──\u001b[90m(TCP|True)\u001b[1m\u001b[21m\u001b[0m─┤\n"
     ]
    }
   ],
   "source": [
    "property1 = NEATProperty(('low_latency', True), precedence=NEATProperty.IMMUTABLE)\n",
    "property2 = NEATProperty(('remote_ip', '10.1.23.45'), precedence=NEATProperty.IMMUTABLE)\n",
    "property3 = NEATProperty(('MTU', {\"start\":1500, \"end\":9000}), precedence=NEATProperty.OPTIONAL) \n",
    "property4 = NEATProperty(('TCP', True))  # OPTIONAL is the default property precedence\n",
    "\n",
    "request = PropertyArray(property1,property2,property3,property4)\n",
    "\n",
    "print(request)"
   ]
  },
  {
   "cell_type": "markdown",
   "metadata": {
    "button": false,
    "deletable": true,
    "run_control": {
     "read_only": false
    }
   },
   "source": [
    "# Policy Manager/NEAT logic API\n",
    "\n",
    "Application requirements from the NEAT logic are passed to the Policy Manager using JSON. For the example above the JSON string could be:"
   ]
  },
  {
   "cell_type": "code",
   "execution_count": 3,
   "metadata": {
    "button": false,
    "collapsed": false,
    "deletable": true,
    "run_control": {
     "read_only": false
    }
   },
   "outputs": [
    {
     "data": {
      "text/plain": [
       "'{\"MTU\": {\"value\": {\"end\": 9000.0, \"start\": 1500.0}}, \"TCP\": {\"value\": true}, \"low_latency\": {\"precedence\": 2, \"value\": true}, \"remote_ip\": {\"precedence\": 2, \"value\": \"10.1.23.45\"}}'"
      ]
     },
     "execution_count": 3,
     "metadata": {},
     "output_type": "execute_result"
    }
   ],
   "source": [
    "properties_to_json(request)"
   ]
  },
  {
   "cell_type": "markdown",
   "metadata": {
    "button": false,
    "deletable": true,
    "run_control": {
     "read_only": false
    }
   },
   "source": [
    "# Exemplary Setup\n",
    "\n",
    "Consider a host with three local interfaces `en0`, `en1`, `ra0`. Two of the interfaces, `en0`, `en1`, are wired while `ra0` is a 3G interface. We populate an instance of the Characteristic Information Base (CIB) with some information about the host interfaces and the network."
   ]
  },
  {
   "cell_type": "code",
   "execution_count": 4,
   "metadata": {
    "button": false,
    "collapsed": false,
    "deletable": true,
    "run_control": {
     "read_only": false
    },
    "scrolled": true
   },
   "outputs": [
    {
     "name": "stderr",
     "output_type": "stream",
     "text": [
      "[INFO]: checking for CIB updates...\n",
      "[INFO]: new CIB node cib/example/16d095c33b1b43f5b2f26f5aab8fb638.cib. loading...\n",
      "[ERROR]: Unable to load CIB node cib/example/16d095c33b1b43f5b2f26f5aab8fb638.cib: CIB node is expired\n",
      "[INFO]: new CIB node cib/example/606b9ee77840011a1d0e409e37e2f51f.cib. loading...\n",
      "[ERROR]: Unable to load CIB node cib/example/606b9ee77840011a1d0e409e37e2f51f.cib: CIB node is expired\n",
      "[INFO]: new CIB node cib/example/A.local. loading...\n",
      "[INFO]: new CIB node cib/example/B.connection. loading...\n",
      "[INFO]: new CIB node cib/example/be075f299bdcedc73e8de8642433e7a5.cib. loading...\n",
      "[ERROR]: Unable to load CIB node cib/example/be075f299bdcedc73e8de8642433e7a5.cib: CIB node is expired\n",
      "[INFO]: new CIB node cib/example/C.connection. loading...\n",
      "[INFO]: new CIB node cib/example/ee3d9b332849672849ca060af78e6426.cib. loading...\n",
      "[ERROR]: Unable to load CIB node cib/example/ee3d9b332849672849ca060af78e6426.cib: CIB node is expired\n",
      "[INFO]: new CIB node cib/example/eec643c70542146eebaf9283c6e34c16.cib. loading...\n",
      "[ERROR]: Unable to load CIB node cib/example/eec643c70542146eebaf9283c6e34c16.cib: CIB node is expired\n",
      "[INFO]: new CIB node cib/example/en0.local. loading...\n",
      "[INFO]: new CIB node cib/example/en1.local. loading...\n",
      "[INFO]: new CIB node cib/example/en7.local. loading...\n",
      "[INFO]: new CIB node cib/example/foo.cib. loading...\n",
      "[INFO]: new CIB node cib/example/wired_profile.cib. loading...\n"
     ]
    }
   ],
   "source": [
    "cib = CIB('cib/example/')"
   ]
  },
  {
   "cell_type": "markdown",
   "metadata": {
    "button": false,
    "deletable": true,
    "run_control": {
     "read_only": false
    }
   },
   "source": [
    "The currently known network chracteristics are stored as entries in the CIB, where each entry contains a set of properties associated with some interface:"
   ]
  },
  {
   "cell_type": "code",
   "execution_count": 5,
   "metadata": {
    "button": false,
    "collapsed": false,
    "deletable": true,
    "run_control": {
     "read_only": false
    }
   },
   "outputs": [
    {
     "name": "stdout",
     "output_type": "stream",
     "text": [
      "═════════════════════════════════════════ CIB START ═════════════════════════════════════════\n",
      "  0. ├─\u001b[90m[capacity|1000]\u001b[1m\u001b[21m\u001b[0m──\u001b[90m[interface|en1]\u001b[1m\u001b[21m\u001b[0m──\u001b[90m[local_ip|10.3.1.1]\u001b[1m\u001b[21m\u001b[0m──\u001b[90m(MTU|1500)\u001b[1m\u001b[21m\u001b[0m─┤\n",
      "  1. ├─\u001b[90m[capacity|10000]\u001b[1m\u001b[21m\u001b[0m──\u001b[90m[interface|en0]\u001b[1m\u001b[21m\u001b[0m──\u001b[90m[local_ip|10.2.2.2]\u001b[1m\u001b[21m\u001b[0m──\u001b[90m(MTU|50.0-9000.0)\u001b[1m\u001b[21m\u001b[0m──\u001b[90m[remote_ip|10:54:1.23]\u001b[1m\u001b[21m\u001b[0m──\u001b[90m[remote_port|80]\u001b[1m\u001b[21m\u001b[0m──\u001b[90m[transport|TCP]\u001b[1m₊₁.₀\u001b[21m\u001b[0m──\u001b[90m(utilization|0.63)\u001b[1m\u001b[21m\u001b[0m─┤\n",
      "  2. ├─\u001b[90m[capacity|10000]\u001b[1m\u001b[21m\u001b[0m──\u001b[90m[interface|en0]\u001b[1m\u001b[21m\u001b[0m──\u001b[90m[local_ip|10.2.1.1]\u001b[1m\u001b[21m\u001b[0m──\u001b[90m(MTU|50.0-9000.0)\u001b[1m\u001b[21m\u001b[0m──\u001b[90m[remote_ip|10:54:1.23]\u001b[1m\u001b[21m\u001b[0m──\u001b[90m[remote_port|80]\u001b[1m\u001b[21m\u001b[0m──\u001b[90m[transport|TCP]\u001b[1m₊₁.₀\u001b[21m\u001b[0m──\u001b[90m(utilization|0.63)\u001b[1m\u001b[21m\u001b[0m─┤\n",
      "  3. ├─\u001b[90m[capacity|10000]\u001b[1m\u001b[21m\u001b[0m──\u001b[90m[interface|en0]\u001b[1m\u001b[21m\u001b[0m──\u001b[90m[local_ip|10.2.2.2]\u001b[1m\u001b[21m\u001b[0m──\u001b[90m(MTU|50.0-9000.0)\u001b[1m\u001b[21m\u001b[0m──\u001b[90m[remote_ip|10:54:1.23]\u001b[1m\u001b[21m\u001b[0m──\u001b[90m[remote_port|80]\u001b[1m\u001b[21m\u001b[0m──\u001b[90m[transport|TCP]\u001b[1m₊₁.₀\u001b[21m\u001b[0m──\u001b[90m(utilization|0.63)\u001b[1m\u001b[21m\u001b[0m─┤\n",
      "  4. ├─\u001b[90m[capacity|10000]\u001b[1m\u001b[21m\u001b[0m──\u001b[90m[interface|en0]\u001b[1m\u001b[21m\u001b[0m──\u001b[90m[local_ip|10.2.1.1]\u001b[1m\u001b[21m\u001b[0m──\u001b[90m(MTU|50.0-9000.0)\u001b[1m\u001b[21m\u001b[0m──\u001b[90m[remote_ip|10:54:1.23]\u001b[1m\u001b[21m\u001b[0m──\u001b[90m[remote_port|80]\u001b[1m\u001b[21m\u001b[0m──\u001b[90m[transport|TCP]\u001b[1m₊₁.₀\u001b[21m\u001b[0m──\u001b[90m(utilization|0.63)\u001b[1m\u001b[21m\u001b[0m─┤\n",
      "  5. ├─\u001b[90m[capacity|100]\u001b[1m\u001b[21m\u001b[0m──\u001b[90m[interface|en0]\u001b[1m\u001b[21m\u001b[0m──\u001b[90m(MTU|1500)\u001b[1m\u001b[21m\u001b[0m─┤\n",
      "  6. ├─\u001b[90m(capacity|1000)\u001b[1m\u001b[21m\u001b[0m──\u001b[90m[remote_ip|10:54:1.23]\u001b[1m\u001b[21m\u001b[0m──\u001b[90m[remote_port|80]\u001b[1m\u001b[21m\u001b[0m──\u001b[90m[transport|TCP]\u001b[1m₊₁.₀\u001b[21m\u001b[0m──\u001b[90m(utilization|0.63)\u001b[1m\u001b[21m\u001b[0m─┤\n",
      "  7. ├─\u001b[90m[capacity|1000]\u001b[1m\u001b[21m\u001b[0m──\u001b[90m[interface|en7]\u001b[1m\u001b[21m\u001b[0m──\u001b[90m[local_ip|10.73.64.110]\u001b[1m\u001b[21m\u001b[0m──\u001b[90m(MTU|1500)\u001b[1m\u001b[21m\u001b[0m─┤\n",
      "══════════════════════════════════════════ CIB END ══════════════════════════════════════════\n"
     ]
    }
   ],
   "source": [
    "cib.dump()"
   ]
  },
  {
   "cell_type": "markdown",
   "metadata": {
    "button": false,
    "deletable": true,
    "run_control": {
     "read_only": false
    }
   },
   "source": [
    "# PIB \n",
    "\n",
    "We create one repository for system profiles, and one for policies:"
   ]
  },
  {
   "cell_type": "code",
   "execution_count": 6,
   "metadata": {
    "button": false,
    "collapsed": false,
    "deletable": true,
    "run_control": {
     "read_only": false
    }
   },
   "outputs": [
    {
     "name": "stderr",
     "output_type": "stream",
     "text": [
      "[INFO]: Loading policy pib/example/23423.policy...\n",
      "[INFO]: Loading policy pib/example/b.policy...\n",
      "[INFO]: Loading policy pib/example/bulk.policy...\n",
      "[INFO]: Loading policy pib/example/default.profile...\n",
      "[INFO]: Loading policy pib/example/google.policy...\n",
      "[INFO]: Loading policy pib/example/low_latency.profile...\n",
      "[INFO]: Loading policy pib/example/mptcp_so.policy...\n",
      "[INFO]: Loading policy pib/example/sctp.policy...\n",
      "[INFO]: Loading policy pib/example/secure.profile...\n",
      "[INFO]: Loading policy pib/example/tcp_opt.policy...\n",
      "[INFO]: Loading policy pib/example/tcp_so.policy...\n",
      "[INFO]: Loading policy pib/example/test.policy.policy...\n",
      "[INFO]: Loading policy pib/example/test2.pol.policy...\n",
      "[INFO]: Loading policy pib/example/test333.policy...\n",
      "[INFO]: Loading policy pib/example/transport_reliable.profile...\n",
      "[INFO]: Loading policy pib/example/transport_unknown.profile...\n",
      "[INFO]: Loading policy pib/example/23423.policy...\n",
      "[INFO]: Loading policy pib/example/b.policy...\n",
      "[INFO]: Loading policy pib/example/bulk.policy...\n",
      "[INFO]: Loading policy pib/example/default.profile...\n",
      "[INFO]: Loading policy pib/example/google.policy...\n",
      "[INFO]: Loading policy pib/example/low_latency.profile...\n",
      "[INFO]: Loading policy pib/example/mptcp_so.policy...\n",
      "[INFO]: Loading policy pib/example/sctp.policy...\n",
      "[INFO]: Loading policy pib/example/secure.profile...\n",
      "[INFO]: Loading policy pib/example/tcp_opt.policy...\n",
      "[INFO]: Loading policy pib/example/tcp_so.policy...\n",
      "[INFO]: Loading policy pib/example/test.policy.policy...\n",
      "[INFO]: Loading policy pib/example/test2.pol.policy...\n",
      "[INFO]: Loading policy pib/example/test333.policy...\n",
      "[INFO]: Loading policy pib/example/transport_reliable.profile...\n",
      "[INFO]: Loading policy pib/example/transport_unknown.profile...\n"
     ]
    }
   ],
   "source": [
    "profiles = PIB('pib/example/')\n",
    "pib = PIB('pib/example/')"
   ]
  },
  {
   "cell_type": "markdown",
   "metadata": {
    "button": false,
    "deletable": true,
    "run_control": {
     "read_only": false
    }
   },
   "source": [
    "For the current scenario, the low latency profile is defined as follows:"
   ]
  },
  {
   "cell_type": "code",
   "execution_count": 14,
   "metadata": {
    "button": false,
    "collapsed": false,
    "deletable": true,
    "run_control": {
     "read_only": false
    }
   },
   "outputs": [],
   "source": [
    "profile1 = NEATPolicy()\n",
    "\n",
    "profile1.match.add(NEATProperty(('low_latency', True)))\n",
    "profile1.properties.add(NEATProperty(('iw_wired', True)), \n",
    "                        NEATProperty(('interface_latency', (0,40)), precedence=NEATProperty.IMMUTABLE))\n",
    "\n",
    "profiles.register(profile1)"
   ]
  },
  {
   "cell_type": "markdown",
   "metadata": {
    "button": false,
    "deletable": true,
    "run_control": {
     "read_only": false
    }
   },
   "source": [
    "Next, we define two sample policies and add them to the Policy Information Base (PIB).\n",
    "\n",
    "A \"bulk transfer\" policy is configured which is triggered by a specific destination IP, which is known to be the address of backup NFS share:"
   ]
  },
  {
   "cell_type": "code",
   "execution_count": 15,
   "metadata": {
    "button": false,
    "collapsed": false,
    "deletable": true,
    "run_control": {
     "read_only": false
    }
   },
   "outputs": [
    {
     "name": "stdout",
     "output_type": "stream",
     "text": [
      "  0. f2b13a9ce5967411c6dd23ff9e684d6e ├─\u001b[90m(remote_ip|10.1.23.45)\u001b[1m\u001b[21m\u001b[0m─┤  ⟶  ╠═[\u001b[90m[capacity|10000.0-100000.0]\u001b[1m\u001b[21m\u001b[0m]══[\u001b[90m(MTU|9600)\u001b[1m\u001b[21m\u001b[0m]═╣\n"
     ]
    }
   ],
   "source": [
    "policy1 = NEATPolicy()\n",
    "\n",
    "policy1.match.add(NEATProperty(('remote_ip', '10.1.23.45')))\n",
    "policy1.properties.add(NEATProperty(('capacity', (10000, 100000)), precedence=NEATProperty.IMMUTABLE), \n",
    "                       NEATProperty(('MTU', 9600)))\n",
    "\n",
    "print(policy1)"
   ]
  },
  {
   "cell_type": "markdown",
   "metadata": {
    "button": false,
    "deletable": true,
    "run_control": {
     "read_only": false
    }
   },
   "source": [
    "Another policy is in place to enable TCP window scaling on 10G links (if possible):"
   ]
  },
  {
   "cell_type": "code",
   "execution_count": 16,
   "metadata": {
    "button": false,
    "collapsed": false,
    "deletable": true,
    "run_control": {
     "read_only": false
    }
   },
   "outputs": [
    {
     "ename": "TypeError",
     "evalue": "__init__() got an unexpected keyword argument 'name'",
     "output_type": "error",
     "traceback": [
      "\u001b[0;31m---------------------------------------------------------------------------\u001b[0m",
      "\u001b[0;31mTypeError\u001b[0m                                 Traceback (most recent call last)",
      "\u001b[0;32m<ipython-input-16-ab7c03b47ee0>\u001b[0m in \u001b[0;36m<module>\u001b[0;34m()\u001b[0m\n\u001b[0;32m----> 1\u001b[0;31m \u001b[0mpolicy2\u001b[0m \u001b[0;34m=\u001b[0m \u001b[0mNEATPolicy\u001b[0m\u001b[0;34m(\u001b[0m\u001b[0mname\u001b[0m\u001b[0;34m=\u001b[0m\u001b[0;34m'TCP options'\u001b[0m\u001b[0;34m)\u001b[0m\u001b[0;34m\u001b[0m\u001b[0m\n\u001b[0m\u001b[1;32m      2\u001b[0m \u001b[0mpolicy2\u001b[0m\u001b[0;34m.\u001b[0m\u001b[0mmatch\u001b[0m\u001b[0;34m.\u001b[0m\u001b[0minsert\u001b[0m\u001b[0;34m(\u001b[0m\u001b[0mNEATProperty\u001b[0m\u001b[0;34m(\u001b[0m\u001b[0;34m(\u001b[0m\u001b[0;34m'MTU'\u001b[0m\u001b[0;34m,\u001b[0m \u001b[0;36m9600\u001b[0m\u001b[0;34m)\u001b[0m\u001b[0;34m)\u001b[0m\u001b[0;34m,\u001b[0m \u001b[0mNEATProperty\u001b[0m\u001b[0;34m(\u001b[0m\u001b[0;34m(\u001b[0m\u001b[0;34m'is_wired'\u001b[0m\u001b[0;34m,\u001b[0m \u001b[0;32mTrue\u001b[0m\u001b[0;34m)\u001b[0m\u001b[0;34m)\u001b[0m\u001b[0;34m)\u001b[0m\u001b[0;34m\u001b[0m\u001b[0m\n\u001b[1;32m      3\u001b[0m \u001b[0mpolicy2\u001b[0m\u001b[0;34m.\u001b[0m\u001b[0mproperties\u001b[0m\u001b[0;34m.\u001b[0m\u001b[0minsert\u001b[0m\u001b[0;34m(\u001b[0m\u001b[0mNEATProperty\u001b[0m\u001b[0;34m(\u001b[0m\u001b[0;34m(\u001b[0m\u001b[0;34m'TCP_window_scale'\u001b[0m\u001b[0;34m,\u001b[0m \u001b[0;32mTrue\u001b[0m\u001b[0;34m)\u001b[0m\u001b[0;34m)\u001b[0m\u001b[0;34m)\u001b[0m\u001b[0;34m\u001b[0m\u001b[0m\n",
      "\u001b[0;31mTypeError\u001b[0m: __init__() got an unexpected keyword argument 'name'"
     ]
    }
   ],
   "source": [
    "policy2 = NEATPolicy(name='TCP options')\n",
    "policy2.match.insert(NEATProperty(('MTU', 9600)), NEATProperty(('is_wired', True)))\n",
    "policy2.properties.insert(NEATProperty(('TCP_window_scale', True)))"
   ]
  },
  {
   "cell_type": "code",
   "execution_count": null,
   "metadata": {
    "button": false,
    "collapsed": false,
    "deletable": true,
    "run_control": {
     "read_only": false
    }
   },
   "outputs": [],
   "source": [
    "pib.register(policy1)\n",
    "pib.register(policy2)\n",
    "pib.dump()"
   ]
  },
  {
   "cell_type": "markdown",
   "metadata": {
    "button": false,
    "deletable": true,
    "run_control": {
     "read_only": false
    }
   },
   "source": [
    "# Lookup Result\n",
    "\n",
    "\n",
    "## Profile Lookup"
   ]
  },
  {
   "cell_type": "markdown",
   "metadata": {
    "button": false,
    "deletable": true,
    "run_control": {
     "read_only": false
    }
   },
   "source": [
    "First, we apply the `low_latency` profile to the request properties. The `low_latency` property in the request is replaced by the corresponding profile properties:"
   ]
  },
  {
   "cell_type": "code",
   "execution_count": null,
   "metadata": {
    "button": false,
    "collapsed": false,
    "deletable": true,
    "run_control": {
     "read_only": false
    }
   },
   "outputs": [],
   "source": [
    "print(request.properties)\n",
    "profiles._lookup(request.properties, remove_matched=True, apply=True)\n",
    "print(request.properties)"
   ]
  },
  {
   "cell_type": "markdown",
   "metadata": {
    "button": false,
    "deletable": true,
    "run_control": {
     "read_only": false
    }
   },
   "source": [
    "## CIB Lookup\n",
    "\n",
    "Next a lookup in the CIB is performed. Our NEAT request yields three candidates:"
   ]
  },
  {
   "cell_type": "code",
   "execution_count": null,
   "metadata": {
    "button": false,
    "collapsed": false,
    "deletable": true,
    "run_control": {
     "read_only": false
    },
    "scrolled": true
   },
   "outputs": [],
   "source": [
    "cib.lookup(request)\n",
    "request.dump()"
   ]
  },
  {
   "cell_type": "markdown",
   "metadata": {
    "button": false,
    "deletable": true,
    "run_control": {
     "read_only": false
    }
   },
   "source": [
    "Each candidate is comprised of the union of the properties of a single CIB entry and the application request. Whenever  the two sets intersect, the values of the corresponding properties are compared. If two properties match, the associated candidate property score is increased (e.g., `[MTU|1500]+1.0` indicates a new score of 1.0). The score is decreased if there is a mismatch in the property values."
   ]
  },
  {
   "cell_type": "markdown",
   "metadata": {
    "button": false,
    "deletable": true,
    "run_control": {
     "read_only": false
    }
   },
   "source": [
    "## PIB Lookup\n",
    "In the next step the policies are applied. The \"Bulk transfer\" policy is applied first as it posesses the *smallest* number of match entries."
   ]
  },
  {
   "cell_type": "code",
   "execution_count": null,
   "metadata": {
    "button": false,
    "collapsed": false,
    "deletable": true,
    "run_control": {
     "read_only": false
    }
   },
   "outputs": [],
   "source": [
    "pib.lookup_all(request.candidates)\n",
    "request.dump()"
   ]
  },
  {
   "cell_type": "markdown",
   "metadata": {
    "button": false,
    "deletable": true,
    "run_control": {
     "read_only": false
    }
   },
   "source": [
    "Candidate 1 becomes:        "
   ]
  },
  {
   "cell_type": "code",
   "execution_count": null,
   "metadata": {
    "button": false,
    "collapsed": false,
    "deletable": true,
    "run_control": {
     "read_only": false
    }
   },
   "outputs": [],
   "source": [
    "request.candidates[0].dump()"
   ]
  },
  {
   "cell_type": "markdown",
   "metadata": {
    "button": false,
    "deletable": true,
    "run_control": {
     "read_only": false
    }
   },
   "source": [
    "Next we examine Candidate 2:"
   ]
  },
  {
   "cell_type": "code",
   "execution_count": null,
   "metadata": {
    "button": false,
    "collapsed": false,
    "deletable": true,
    "run_control": {
     "read_only": false
    }
   },
   "outputs": [],
   "source": [
    "request.candidates[1].dump()"
   ]
  },
  {
   "cell_type": "markdown",
   "metadata": {
    "button": false,
    "deletable": true,
    "run_control": {
     "read_only": false
    }
   },
   "source": [
    "Note that the score of the MTU property was reduced, as it did not match the requested property of the \"Bulk transfer\" policy.\n",
    "\n",
    "The \"TCP options\" policy is not applied as the candidate does not match the policy's MTU property.\n",
    "\n",
    "---\n",
    "\n",
    "The third candidate was invalidated because the \"Bulk transfer\" policy contains an immutable property requiring a capacity of 10G, which candidate 3 cannot fulfil.\n",
    "\n",
    "---"
   ]
  },
  {
   "cell_type": "markdown",
   "metadata": {
    "button": false,
    "deletable": true,
    "run_control": {
     "read_only": false
    }
   },
   "source": [
    "Finally, we can obtain the total score of the properties associated with each candidate:"
   ]
  },
  {
   "cell_type": "code",
   "execution_count": null,
   "metadata": {
    "button": false,
    "collapsed": false,
    "deletable": true,
    "run_control": {
     "read_only": false
    }
   },
   "outputs": [],
   "source": [
    "print(request.candidates[0].score)"
   ]
  },
  {
   "cell_type": "code",
   "execution_count": null,
   "metadata": {
    "button": false,
    "collapsed": false,
    "deletable": true,
    "run_control": {
     "read_only": false
    }
   },
   "outputs": [],
   "source": [
    "print(request.candidates[1].score)"
   ]
  },
  {
   "cell_type": "markdown",
   "metadata": {
    "button": false,
    "deletable": true,
    "run_control": {
     "read_only": false
    }
   },
   "source": [
    "The score indicates that candidate one (interface `en0`) is most suitable for the given application request."
   ]
  },
  {
   "cell_type": "markdown",
   "metadata": {
    "button": false,
    "deletable": true,
    "run_control": {
     "read_only": false
    }
   },
   "source": [
    "# NEAT Logic\n",
    "The two candidates can now be passed on to the NEAT logic as JSON strings:"
   ]
  },
  {
   "cell_type": "code",
   "execution_count": null,
   "metadata": {
    "button": false,
    "collapsed": false,
    "deletable": true,
    "run_control": {
     "read_only": false
    }
   },
   "outputs": [],
   "source": [
    "request.candidates[0].properties.json()"
   ]
  },
  {
   "cell_type": "code",
   "execution_count": null,
   "metadata": {
    "button": false,
    "collapsed": false,
    "deletable": true,
    "run_control": {
     "read_only": false
    }
   },
   "outputs": [],
   "source": [
    "request.candidates[1].properties.json()"
   ]
  },
  {
   "cell_type": "markdown",
   "metadata": {
    "button": false,
    "collapsed": true,
    "deletable": true,
    "run_control": {
     "read_only": false
    }
   },
   "source": [
    "Note that properties which were not matched/updated during the lookup contain `NaN` as a score. This means that the PM did not have enough information to rank theses properties. The NEAT logic must decide how to deal with these unprocessed properties."
   ]
  }
 ],
 "metadata": {
  "kernelspec": {
   "display_name": "Python 3",
   "language": "python",
   "name": "python3"
  },
  "language_info": {
   "codemirror_mode": {
    "name": "ipython",
    "version": 3
   },
   "file_extension": ".py",
   "mimetype": "text/x-python",
   "name": "python",
   "nbconvert_exporter": "python",
   "pygments_lexer": "ipython3",
   "version": "3.5.0"
  }
 },
 "nbformat": 4,
 "nbformat_minor": 0
}
